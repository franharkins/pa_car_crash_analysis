{
 "cells": [
  {
   "cell_type": "code",
   "execution_count": 1,
   "metadata": {},
   "outputs": [],
   "source": [
    "import pandas as pd\n",
    "from sodapy import Socrata\n",
    "import matplotlib.pyplot as plt\n",
    "import yaml"
   ]
  },
  {
   "cell_type": "code",
   "execution_count": 14,
   "metadata": {},
   "outputs": [],
   "source": [
    "#initial test pull, used docs: https://dev.socrata.com/foundry/data.pa.gov/dc5b-gebx\n",
    "try:\n",
    "    with open(\"config.yaml\", \"r\") as file:\n",
    "        config = yaml.safe_load(file)\n",
    "except FileNotFoundError:\n",
    "    print(\"Config file not found.\")\n",
    "except yaml.YAMLError as exc:\n",
    "    print(f\"Error in configuration file: {exc}\")\n",
    "\n",
    "client = Socrata(\"data.pa.gov\", config['APP_TOKEN'])\n",
    "\n",
    "#request timing out, data set is 3 million rows so probably too big going to pull a year at a time. If total rows equals default rows, double total rows and try again until it returns all values for year\n",
    "def extract_data(start_year, end_year):\n",
    "    limit_value = 100000\n",
    "    year_list = range(start_year, end_year+1)\n",
    "    full_data = pd.Series()\n",
    "    for year in year_list:\n",
    "        print(f'proccessing {year}')\n",
    "        year_extract = client.get(\"dc5b-gebx\", limit=limit_value, crash_year=year)\n",
    "        print(len(year_extract))\n",
    "        while len(year_extract) == limit_value:\n",
    "            limit_value *= 2\n",
    "            print(f'limit reached, rerunning with {limit_value}')\n",
    "            year_extract = client.get(\"dc5b-gebx\", limit=limit_value, crash_year=year)\n",
    "        year_df = pd.DataFrame.from_records(year_extract)\n",
    "        full_data = pd.concat([full_data, year_df])\n",
    "        print({f'{year} added to full data'})\n",
    "    return full_data\n"
   ]
  },
  {
   "cell_type": "code",
   "execution_count": 15,
   "metadata": {},
   "outputs": [
    {
     "name": "stdout",
     "output_type": "stream",
     "text": [
      "proccessing 2019\n",
      "100000\n",
      "limit reached, rerunning with 200000\n",
      "{'2019 added to full data'}\n",
      "proccessing 2020\n",
      "83958\n",
      "{'2020 added to full data'}\n"
     ]
    }
   ],
   "source": [
    "test_df = extract_data(2019, 2020)"
   ]
  }
 ],
 "metadata": {
  "kernelspec": {
   "display_name": "pa_crash",
   "language": "python",
   "name": "python3"
  },
  "language_info": {
   "codemirror_mode": {
    "name": "ipython",
    "version": 3
   },
   "file_extension": ".py",
   "mimetype": "text/x-python",
   "name": "python",
   "nbconvert_exporter": "python",
   "pygments_lexer": "ipython3",
   "version": "3.12.1"
  }
 },
 "nbformat": 4,
 "nbformat_minor": 2
}

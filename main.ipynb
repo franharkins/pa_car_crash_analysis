{
 "cells": [
  {
   "cell_type": "code",
   "execution_count": 1,
   "metadata": {},
   "outputs": [],
   "source": [
    "import pandas as pd\n",
    "from sodapy import Socrata\n",
    "import matplotlib.pyplot as plt\n",
    "import yaml"
   ]
  },
  {
   "cell_type": "code",
   "execution_count": 15,
   "metadata": {},
   "outputs": [],
   "source": [
    "#initial test pull, used docs: https://dev.socrata.com/foundry/data.pa.gov/dc5b-gebx\n",
    "try:\n",
    "    with open(\"config.yaml\", \"r\") as file:\n",
    "        config = yaml.safe_load(file)\n",
    "except FileNotFoundError:\n",
    "    print(\"Config file not found.\")\n",
    "except yaml.YAMLError as exc:\n",
    "    print(f\"Error in configuration file: {exc}\")\n",
    "\n",
    "client = Socrata(\"data.pa.gov\", config['APP_TOKEN'])\n",
    "results = client.get(\"dc5b-gebx\", crash_year = '2020', limit=500000, offset=500)\n",
    "test_df = pd.DataFrame.from_records(results)\n",
    "\n",
    "#request timing out, data set is 3 million rows so probably too big -- limiting pull to 2020-Most Recent"
   ]
  },
  {
   "cell_type": "code",
   "execution_count": 5,
   "metadata": {},
   "outputs": [],
   "source": [
    "test_df = pd.DataFrame.from_records(results)"
   ]
  },
  {
   "cell_type": "code",
   "execution_count": 17,
   "metadata": {},
   "outputs": [
    {
     "data": {
      "text/plain": [
       "(83458, 213)"
      ]
     },
     "execution_count": 17,
     "metadata": {},
     "output_type": "execute_result"
    }
   ],
   "source": [
    "test_df.shape"
   ]
  },
  {
   "cell_type": "code",
   "execution_count": null,
   "metadata": {},
   "outputs": [],
   "source": []
  }
 ],
 "metadata": {
  "kernelspec": {
   "display_name": "pa_crash",
   "language": "python",
   "name": "python3"
  },
  "language_info": {
   "codemirror_mode": {
    "name": "ipython",
    "version": 3
   },
   "file_extension": ".py",
   "mimetype": "text/x-python",
   "name": "python",
   "nbconvert_exporter": "python",
   "pygments_lexer": "ipython3",
   "version": "3.12.1"
  }
 },
 "nbformat": 4,
 "nbformat_minor": 2
}
